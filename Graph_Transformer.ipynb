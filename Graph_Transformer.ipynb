{
  "cells": [
    {
      "cell_type": "markdown",
      "metadata": {
        "colab_type": "text",
        "id": "view-in-github"
      },
      "source": [
        "<a href=\"https://colab.research.google.com/github/TheoBacqueyrisse/graph-neural-networks/blob/main/Graph_Transformer.ipynb\" target=\"_parent\"><img src=\"https://colab.research.google.com/assets/colab-badge.svg\" alt=\"Open In Colab\"/></a>"
      ]
    },
    {
      "cell_type": "markdown",
      "metadata": {
        "id": "0kCdn3OkECb6"
      },
      "source": [
        "# **Graph Transformer Architecture**"
      ]
    },
    {
      "cell_type": "code",
      "execution_count": 1,
      "metadata": {},
      "outputs": [],
      "source": [
        "# ouais coucou la team"
      ]
    },
    {
      "cell_type": "code",
      "execution_count": 1,
      "metadata": {
        "id": "2j-Ix4xyqU-P"
      },
      "outputs": [],
      "source": [
        "# Let us first clone the GitHub repository\n",
        "%%capture\n",
        "!git clone https://github.com/TheoBacqueyrisse/Graph-Neural-Networks.git"
      ]
    },
    {
      "cell_type": "code",
      "execution_count": 2,
      "metadata": {
        "id": "A9Qh5B6EqYlS"
      },
      "outputs": [],
      "source": [
        "#test 2\n",
        "\n",
        "# Install dependencies\n",
        "# %%capture\n",
        "# %cd /content/Graph-Neural-Networks\n",
        "# !pip install -r requirements.txt"
      ]
    },
    {
      "cell_type": "code",
      "execution_count": 3,
      "metadata": {
        "id": "xboe1-TzqbnV"
      },
      "outputs": [],
      "source": [
        "from utils import *"
      ]
    },
    {
      "cell_type": "markdown",
      "metadata": {
        "id": "CMeHnZRgfl3K"
      },
      "source": [
        "## Graph Transformer Architecture"
      ]
    },
    {
      "cell_type": "code",
      "execution_count": 10,
      "metadata": {
        "id": "bMn-pDRZ4p4C"
      },
      "outputs": [],
      "source": [
        "EMBEDDING_SIZE = 72\n",
        "class GraphTransformer(nn.Module):\n",
        "    def __init__(self, input_dim, hidden_dim, output_dim):\n",
        "        super(GraphTransformer, self).__init__()\n",
        "\n",
        "        self.conv1 = TransformerConv(input_dim, hidden_dim, heads = 4)\n",
        "        self.conv2 = TransformerConv(hidden_dim * 4, hidden_dim, heads = 4)\n",
        "\n",
        "        self.pool = gap\n",
        "\n",
        "        self.out = nn.Linear(hidden_dim * 4, output_dim)\n",
        "\n",
        "    def forward(self, data, batch_index):\n",
        "\n",
        "        x, edge_index, edge_attr = data.x.float(), data.edge_index, data.edge_attr\n",
        "\n",
        "        max_edge_attr_size = 72\n",
        "\n",
        "        if edge_attr.size(0) != max_edge_attr_size:\n",
        "            if edge_attr.size(0) < max_edge_attr_size:\n",
        "                edge_attr = torch.nn.functional.pad(edge_attr, (0, max_edge_attr_size - edge_attr.size(0)))\n",
        "            else:\n",
        "                edge_attr = edge_attr[:max_edge_attr_size]\n",
        "\n",
        "        x = self.conv1(x, edge_index, edge_attr)\n",
        "        x = F.sigmoid(x)\n",
        "        x = F.dropout(x, p = 0.4)\n",
        "\n",
        "        x = self.conv2(x, edge_index, edge_attr)\n",
        "        x = F.sigmoid(x)\n",
        "        x = F.dropout(x, p = 0.2)\n",
        "\n",
        "        x = self.pool(x, batch_index)\n",
        "\n",
        "        x = self.out(x)\n",
        "\n",
        "        return x\n",
        "\n",
        "model = GraphTransformer(input_dim = 1, hidden_dim = EMBEDDING_SIZE, output_dim = 1)"
      ]
    },
    {
      "cell_type": "markdown",
      "metadata": {
        "id": "DMjAe8pFfrvY"
      },
      "source": [
        "## Configuration"
      ]
    },
    {
      "cell_type": "code",
      "execution_count": 11,
      "metadata": {
        "id": "fC1fVp_s5Vfw"
      },
      "outputs": [],
      "source": [
        "device = torch.device(\"cuda:0\" if torch.cuda.is_available() else \"cpu\")\n",
        "model = model.to(device)\n",
        "\n",
        "NUM_EPOCHS = 100\n",
        "\n",
        "loss_function = L1Loss()\n",
        "\n",
        "optimizer = Adam(params = model.parameters(), lr = 0.003)\n",
        "\n",
        "scheduler = ReduceLROnPlateau(optimizer, mode='min', factor=0.5, patience=10, min_lr=0.00001)"
      ]
    },
    {
      "cell_type": "markdown",
      "metadata": {
        "id": "-reJoHazfwPk"
      },
      "source": [
        "## Load ZINC Data"
      ]
    },
    {
      "cell_type": "code",
      "execution_count": 12,
      "metadata": {
        "colab": {
          "base_uri": "https://localhost:8080/"
        },
        "id": "3aKrSvqZ3_LU",
        "outputId": "bd3a961c-c592-4593-d019-99b6cd1ad4ff"
      },
      "outputs": [
        {
          "name": "stdout",
          "output_type": "stream",
          "text": [
            "Number of Batches in Train Loader : 3433\n",
            "Number of Batches in Val Loader : 382\n",
            "Number of Batches in Test Loader : 79\n"
          ]
        }
      ],
      "source": [
        "NB_GRAPHS_PER_BATCH = 64\n",
        "\n",
        "train = ZINC('/content/Graph-Neural-Networks/data', split = 'train')\n",
        "train = train[train.y > -10] # Drop Outliers\n",
        "\n",
        "val = ZINC('/content/Graph-Neural-Networks/data', split = 'val')\n",
        "\n",
        "test = ZINC('/content/Graph-Neural-Networks/data', split = 'test')\n",
        "\n",
        "train_loader = DataLoader(train,\n",
        "                          batch_size = NB_GRAPHS_PER_BATCH,\n",
        "                          shuffle = True)\n",
        "\n",
        "val_loader = DataLoader(val,\n",
        "                        batch_size = NB_GRAPHS_PER_BATCH,\n",
        "                        shuffle = False)\n",
        "\n",
        "test_loader = DataLoader(test,\n",
        "                         batch_size = NB_GRAPHS_PER_BATCH,\n",
        "                         shuffle = False)\n",
        "\n",
        "print(\"Number of Batches in Train Loader :\", len(train_loader))\n",
        "print(\"Number of Batches in Val Loader :\", len(val_loader))\n",
        "print(\"Number of Batches in Test Loader :\", len(test_loader))"
      ]
    },
    {
      "cell_type": "markdown",
      "metadata": {
        "id": "1SZCXO4qf0i-"
      },
      "source": [
        "## Train and Test Functions 🚀"
      ]
    },
    {
      "cell_type": "code",
      "execution_count": 16,
      "metadata": {
        "id": "e4C5Zo1g39OQ"
      },
      "outputs": [],
      "source": [
        "def train():\n",
        "  for epoch in range(NUM_EPOCHS):\n",
        "      model.train()\n",
        "      total_loss = 0.0\n",
        "\n",
        "      for batch_data in train_loader:\n",
        "\n",
        "          # Use GPU\n",
        "          batch_data.to(device)\n",
        "\n",
        "          optimizer.zero_grad()\n",
        "          predictions = model(batch_data, batch_data.batch)\n",
        "\n",
        "          loss = loss_function(predictions, batch_data.y.float().view(-1, 1))\n",
        "          loss.backward()\n",
        "          optimizer.step()\n",
        "\n",
        "          total_loss += loss.item()\n",
        "\n",
        "      average_train_loss = total_loss / len(train_loader)\n",
        "\n",
        "      model.eval()\n",
        "      val_total_loss = 0.0\n",
        "      with torch.no_grad():\n",
        "          for val_batch_data in val_loader:\n",
        "              val_batch_data.to(device)\n",
        "              val_predictions = model(val_batch_data, val_batch_data.batch)\n",
        "              val_loss = loss_function(val_predictions, val_batch_data.y.float().view(-1, 1))\n",
        "              val_total_loss += val_loss.item()\n",
        "\n",
        "          average_val_loss = val_total_loss / len(val_loader)\n",
        "          scheduler.step(average_val_loss)\n",
        "\n",
        "      print(f\"Epoch {epoch + 1} -> Train Loss: {average_train_loss:.4f} - Val Loss: {average_val_loss:.4f}\")\n",
        "\n",
        "def test():\n",
        "  model.eval()\n",
        "  tot_test_loss = 0.0\n",
        "  with torch.no_grad():\n",
        "\n",
        "      for test_batch in test_loader:\n",
        "          test_batch.to(device)\n",
        "\n",
        "          test_predicitions = model(test_batch, test_batch.batch)\n",
        "          test_loss = loss_function(test_predicitions, test_batch.y.view(-1, 1).float().view(-1, 1))\n",
        "\n",
        "          tot_test_loss += test_loss.item()\n",
        "\n",
        "      average_test_loss = tot_test_loss / len(test_loader)\n",
        "\n",
        "  print(f\"Test Loss: {average_test_loss:.4f}\")"
      ]
    },
    {
      "cell_type": "code",
      "execution_count": 14,
      "metadata": {
        "colab": {
          "base_uri": "https://localhost:8080/"
        },
        "id": "kYVPNiS0dm6O",
        "outputId": "aebbb569-9b08-4738-fc17-f0ceccb0f26e"
      },
      "outputs": [
        {
          "name": "stdout",
          "output_type": "stream",
          "text": [
            "Epoch 1 -> Train Loss: 0.9559 - Val Loss: 0.8533\n",
            "Epoch 2 -> Train Loss: 0.7963 - Val Loss: 0.7862\n",
            "Epoch 3 -> Train Loss: 0.7584 - Val Loss: 0.7619\n",
            "Epoch 4 -> Train Loss: 0.7412 - Val Loss: 0.7602\n",
            "Epoch 5 -> Train Loss: 0.7303 - Val Loss: 0.7468\n",
            "Epoch 6 -> Train Loss: 0.7220 - Val Loss: 0.7242\n",
            "Epoch 7 -> Train Loss: 0.7200 - Val Loss: 0.8063\n",
            "Epoch 8 -> Train Loss: 0.7223 - Val Loss: 0.7393\n",
            "Epoch 9 -> Train Loss: 0.7191 - Val Loss: 0.7240\n",
            "Epoch 10 -> Train Loss: 0.7111 - Val Loss: 0.7260\n",
            "Epoch 11 -> Train Loss: 0.7063 - Val Loss: 0.7494\n",
            "Epoch 12 -> Train Loss: 0.7081 - Val Loss: 0.7230\n",
            "Epoch 13 -> Train Loss: 0.7069 - Val Loss: 0.7152\n",
            "Epoch 14 -> Train Loss: 0.7050 - Val Loss: 0.7134\n",
            "Epoch 15 -> Train Loss: 0.6999 - Val Loss: 0.7114\n",
            "Epoch 16 -> Train Loss: 0.6982 - Val Loss: 0.7329\n",
            "Epoch 17 -> Train Loss: 0.6962 - Val Loss: 0.7081\n",
            "Epoch 18 -> Train Loss: 0.6953 - Val Loss: 0.7034\n",
            "Epoch 19 -> Train Loss: 0.6932 - Val Loss: 0.7164\n",
            "Epoch 20 -> Train Loss: 0.6884 - Val Loss: 0.7132\n",
            "Epoch 21 -> Train Loss: 0.6882 - Val Loss: 0.6998\n",
            "Epoch 22 -> Train Loss: 0.6842 - Val Loss: 0.7028\n",
            "Epoch 23 -> Train Loss: 0.6835 - Val Loss: 0.7007\n",
            "Epoch 24 -> Train Loss: 0.6803 - Val Loss: 0.6954\n",
            "Epoch 25 -> Train Loss: 0.6791 - Val Loss: 0.6882\n",
            "Epoch 26 -> Train Loss: 0.6736 - Val Loss: 0.6841\n",
            "Epoch 27 -> Train Loss: 0.6725 - Val Loss: 0.6826\n",
            "Epoch 28 -> Train Loss: 0.6714 - Val Loss: 0.6831\n",
            "Epoch 29 -> Train Loss: 0.6708 - Val Loss: 0.6814\n",
            "Epoch 30 -> Train Loss: 0.6694 - Val Loss: 0.6824\n",
            "Epoch 31 -> Train Loss: 0.6672 - Val Loss: 0.6822\n",
            "Epoch 32 -> Train Loss: 0.6698 - Val Loss: 0.6878\n",
            "Epoch 33 -> Train Loss: 0.6690 - Val Loss: 0.6820\n",
            "Epoch 34 -> Train Loss: 0.6668 - Val Loss: 0.7086\n",
            "Epoch 35 -> Train Loss: 0.6658 - Val Loss: 0.6841\n",
            "Epoch 36 -> Train Loss: 0.6662 - Val Loss: 0.6807\n",
            "Epoch 37 -> Train Loss: 0.6662 - Val Loss: 0.6780\n",
            "Epoch 38 -> Train Loss: 0.6645 - Val Loss: 0.6830\n",
            "Epoch 39 -> Train Loss: 0.6630 - Val Loss: 0.6807\n",
            "Epoch 40 -> Train Loss: 0.6637 - Val Loss: 0.6800\n",
            "Epoch 41 -> Train Loss: 0.6655 - Val Loss: 0.6788\n",
            "Epoch 42 -> Train Loss: 0.6650 - Val Loss: 0.6877\n",
            "Epoch 43 -> Train Loss: 0.6651 - Val Loss: 0.6789\n",
            "Epoch 44 -> Train Loss: 0.6663 - Val Loss: 0.6905\n",
            "Epoch 45 -> Train Loss: 0.6656 - Val Loss: 0.6911\n",
            "Epoch 46 -> Train Loss: 0.6635 - Val Loss: 0.6973\n",
            "Epoch 47 -> Train Loss: 0.6607 - Val Loss: 0.6735\n",
            "Epoch 48 -> Train Loss: 0.6611 - Val Loss: 0.6744\n",
            "Epoch 49 -> Train Loss: 0.6593 - Val Loss: 0.6772\n",
            "Epoch 50 -> Train Loss: 0.6593 - Val Loss: 0.6764\n",
            "Epoch 51 -> Train Loss: 0.6642 - Val Loss: 0.6781\n",
            "Epoch 52 -> Train Loss: 0.6626 - Val Loss: 0.6942\n",
            "Epoch 53 -> Train Loss: 0.6621 - Val Loss: 0.6730\n",
            "Epoch 54 -> Train Loss: 0.6607 - Val Loss: 0.6737\n",
            "Epoch 55 -> Train Loss: 0.6589 - Val Loss: 0.6826\n",
            "Epoch 56 -> Train Loss: 0.6591 - Val Loss: 0.6704\n",
            "Epoch 57 -> Train Loss: 0.6603 - Val Loss: 0.6788\n",
            "Epoch 58 -> Train Loss: 0.6598 - Val Loss: 0.6965\n",
            "Epoch 59 -> Train Loss: 0.6588 - Val Loss: 0.6766\n",
            "Epoch 60 -> Train Loss: 0.6588 - Val Loss: 0.6755\n",
            "Epoch 61 -> Train Loss: 0.6580 - Val Loss: 0.6773\n",
            "Epoch 62 -> Train Loss: 0.6597 - Val Loss: 0.6748\n",
            "Epoch 63 -> Train Loss: 0.6595 - Val Loss: 0.6770\n",
            "Epoch 64 -> Train Loss: 0.6583 - Val Loss: 0.6745\n",
            "Epoch 65 -> Train Loss: 0.6620 - Val Loss: 0.6767\n",
            "Epoch 66 -> Train Loss: 0.6590 - Val Loss: 0.6730\n",
            "Epoch 67 -> Train Loss: 0.6608 - Val Loss: 0.6713\n",
            "Epoch 68 -> Train Loss: 0.6536 - Val Loss: 0.6765\n",
            "Epoch 69 -> Train Loss: 0.6520 - Val Loss: 0.6745\n",
            "Epoch 70 -> Train Loss: 0.6516 - Val Loss: 0.6667\n",
            "Epoch 71 -> Train Loss: 0.6514 - Val Loss: 0.6757\n",
            "Epoch 72 -> Train Loss: 0.6503 - Val Loss: 0.6722\n",
            "Epoch 73 -> Train Loss: 0.6500 - Val Loss: 0.6695\n",
            "Epoch 74 -> Train Loss: 0.6502 - Val Loss: 0.6657\n",
            "Epoch 75 -> Train Loss: 0.6489 - Val Loss: 0.6674\n",
            "Epoch 76 -> Train Loss: 0.6501 - Val Loss: 0.6646\n",
            "Epoch 77 -> Train Loss: 0.6487 - Val Loss: 0.6661\n",
            "Epoch 78 -> Train Loss: 0.6496 - Val Loss: 0.6734\n",
            "Epoch 79 -> Train Loss: 0.6490 - Val Loss: 0.6808\n",
            "Epoch 80 -> Train Loss: 0.6497 - Val Loss: 0.6656\n",
            "Epoch 81 -> Train Loss: 0.6508 - Val Loss: 0.6623\n",
            "Epoch 82 -> Train Loss: 0.6474 - Val Loss: 0.6637\n",
            "Epoch 83 -> Train Loss: 0.6477 - Val Loss: 0.6698\n",
            "Epoch 84 -> Train Loss: 0.6480 - Val Loss: 0.6640\n",
            "Epoch 85 -> Train Loss: 0.6474 - Val Loss: 0.6651\n",
            "Epoch 86 -> Train Loss: 0.6466 - Val Loss: 0.6660\n",
            "Epoch 87 -> Train Loss: 0.6475 - Val Loss: 0.6636\n",
            "Epoch 88 -> Train Loss: 0.6467 - Val Loss: 0.6647\n",
            "Epoch 89 -> Train Loss: 0.6459 - Val Loss: 0.6621\n",
            "Epoch 90 -> Train Loss: 0.6469 - Val Loss: 0.6659\n",
            "Epoch 91 -> Train Loss: 0.6462 - Val Loss: 0.6613\n",
            "Epoch 92 -> Train Loss: 0.6458 - Val Loss: 0.6631\n",
            "Epoch 93 -> Train Loss: 0.6470 - Val Loss: 0.6637\n",
            "Epoch 94 -> Train Loss: 0.6463 - Val Loss: 0.6622\n",
            "Epoch 95 -> Train Loss: 0.6463 - Val Loss: 0.6627\n",
            "Epoch 96 -> Train Loss: 0.6461 - Val Loss: 0.6621\n",
            "Epoch 97 -> Train Loss: 0.6459 - Val Loss: 0.6632\n",
            "Epoch 98 -> Train Loss: 0.6461 - Val Loss: 0.6657\n",
            "Epoch 99 -> Train Loss: 0.6451 - Val Loss: 0.6676\n",
            "Epoch 100 -> Train Loss: 0.6446 - Val Loss: 0.6642\n"
          ]
        }
      ],
      "source": [
        "train()"
      ]
    },
    {
      "cell_type": "code",
      "execution_count": 17,
      "metadata": {
        "colab": {
          "base_uri": "https://localhost:8080/"
        },
        "id": "v4kZaa5oO9I2",
        "outputId": "33911ee5-92dc-4c42-b1d0-222d59c305d0"
      },
      "outputs": [
        {
          "name": "stdout",
          "output_type": "stream",
          "text": [
            "Test Loss: 0.6769\n"
          ]
        }
      ],
      "source": [
        "test()"
      ]
    }
  ],
  "metadata": {
    "accelerator": "GPU",
    "colab": {
      "authorship_tag": "ABX9TyMJuzsj/DtE1JuD0YxVyPts",
      "gpuType": "T4",
      "include_colab_link": true,
      "provenance": []
    },
    "kernelspec": {
      "display_name": "Python 3",
      "name": "python3"
    },
    "language_info": {
      "codemirror_mode": {
        "name": "ipython",
        "version": 3
      },
      "file_extension": ".py",
      "mimetype": "text/x-python",
      "name": "python",
      "nbconvert_exporter": "python",
      "pygments_lexer": "ipython3",
      "version": "3.9.5"
    }
  },
  "nbformat": 4,
  "nbformat_minor": 0
}
